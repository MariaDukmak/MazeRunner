{
 "cells": [
  {
   "cell_type": "markdown",
   "metadata": {},
   "source": [
    "## MazeRunner DataAnalyse\n",
    "![image.png](attachment:image.png)"
   ]
  },
  {
   "cell_type": "markdown",
   "metadata": {},
   "source": [
    "# GROTE VRAGEN:\n",
    "\n",
    "## - Vinden de multiagents sneller de uitgang als ze samenwerken (auction)\n",
    "\n",
    "## - "
   ]
  },
  {
   "cell_type": "code",
   "execution_count": 101,
   "metadata": {},
   "outputs": [],
   "source": [
    "import os\n",
    "import glob\n",
    "import pyarrow.feather as feather\n",
    "\n",
    "import matplotlib.pyplot as plt\n",
    "import pandas as pd\n",
    "import seaborn as sns\n",
    "# from analysis.helpers import plot_batch, read_data"
   ]
  },
  {
   "cell_type": "code",
   "execution_count": 89,
   "metadata": {},
   "outputs": [
    {
     "data": {
      "text/plain": [
       "'D:\\\\Git\\\\MazeRunner\\\\experiments'"
      ]
     },
     "execution_count": 89,
     "metadata": {},
     "output_type": "execute_result"
    }
   ],
   "source": [
    "os.getcwd()\n",
    "\n",
    "os.chdir('../experiments')\n",
    "\n",
    "os.getcwd()"
   ]
  },
  {
   "cell_type": "markdown",
   "metadata": {},
   "source": [
    "## Baseline\n",
    "\n",
    "Hierin kijken we welke van de 3 soorten agents in normale omstandigheden het stelste de uitgang vind. We kijken eerst naar een 'kleine' maze met afmetingen van 20x20 tiles"
   ]
  },
  {
   "cell_type": "markdown",
   "metadata": {},
   "source": [
    "#### Klein doolhof\n",
    "\n",
    "- 100 batches per policy\n",
    "- Speed = 0\n",
    "- Memory Decay = 0"
   ]
  },
  {
   "cell_type": "code",
   "execution_count": 91,
   "metadata": {},
   "outputs": [],
   "source": [
    "df_lt = feather.read_feather('baseline/baseline_small/baseline_leaftracker_small.feather')\n",
    "df_lt['policy'] = 'leaftracker'\n",
    "\n",
    "df_pf = feather.read_feather('baseline/baseline_small/baseline_pathfinder_small.feather')\n",
    "df_pf['policy'] = 'pathfinder'\n",
    "\n",
    "df_pr = feather.read_feather('baseline/baseline_small/baseline_purerandom_small.feather')\n",
    "df_pr['policy'] = 'purerandom'\n",
    "\n",
    "baseline_small_all = pd.concat([df_lt, df_pf, df_pr], axis=0)\n",
    "\n",
    "baseline_small_lt_pf = pd.concat([df_lt, df_pf], axis=0)"
   ]
  },
  {
   "cell_type": "code",
   "execution_count": 92,
   "metadata": {},
   "outputs": [
    {
     "data": {
      "image/png": "[encoded data removed]",
      "text/plain": [
       "<Figure size 432x288 with 1 Axes>"
      ]
     },
     "metadata": {
      "needs_background": "light"
     },
     "output_type": "display_data"
    }
   ],
   "source": [
    "ax = sns.boxplot(x=\"policy\", y=\"time\", data=baseline_small_all)"
   ]
  },
  {
   "cell_type": "code",
   "execution_count": 104,
   "metadata": {},
   "outputs": [
    {
     "data": {
      "image/png": "[encoded data removed]",
      "text/plain": [
       "<Figure size 432x288 with 1 Axes>"
      ]
     },
     "metadata": {
      "needs_background": "light"
     },
     "output_type": "display_data"
    }
   ],
   "source": [
    "ax = sns.boxplot(x=\"policy\", y=\"time\", data=baseline_small_lt_pf)"
   ]
  },
  {
   "cell_type": "markdown",
   "metadata": {},
   "source": [
    "#### Groot doolhof\n",
    "\n",
    "- 30 batches per policy\n",
    "- Speed = 0\n",
    "- Memory Decay = 0"
   ]
  },
  {
   "cell_type": "code",
   "execution_count": 94,
   "metadata": {},
   "outputs": [],
   "source": [
    "df_lt = feather.read_feather('baseline/baseline_big/baseline_leaftracker_big.feather')\n",
    "df_lt['policy'] = 'leaftracker'\n",
    "\n",
    "df_pf = feather.read_feather('baseline/baseline_big/baseline_pathfinder_big.feather')\n",
    "df_pf['policy'] = 'pathfinder'\n",
    "\n",
    "df_pr = feather.read_feather('baseline/baseline_big/baseline_purerandom_big.feather')\n",
    "df_pr['policy'] = 'purerandom'\n",
    "\n",
    "baseline_big_all = pd.concat([df_lt, df_pf, df_pr], axis=0)\n",
    "\n",
    "baseline_big_lt_pf = pd.concat([df_lt, df_pf], axis=0)"
   ]
  },
  {
   "cell_type": "code",
   "execution_count": 99,
   "metadata": {},
   "outputs": [
    {
     "data": {
      "text/html": [
       "<div>\n",
       "<style scoped>\n",
       "    .dataframe tbody tr th:only-of-type {\n",
       "        vertical-align: middle;\n",
       "    }\n",
       "\n",
       "    .dataframe tbody tr th {\n",
       "        vertical-align: top;\n",
       "    }\n",
       "\n",
       "    .dataframe thead th {\n",
       "        text-align: right;\n",
       "    }\n",
       "</style>\n",
       "<table border=\"1\" class=\"dataframe\">\n",
       "  <thead>\n",
       "    <tr style=\"text-align: right;\">\n",
       "      <th></th>\n",
       "      <th>time</th>\n",
       "      <th>found_exit</th>\n",
       "      <th>n_alive</th>\n",
       "      <th>explored</th>\n",
       "      <th>policy</th>\n",
       "    </tr>\n",
       "  </thead>\n",
       "  <tbody>\n",
       "    <tr>\n",
       "      <th>0</th>\n",
       "      <td>600</td>\n",
       "      <td>-1</td>\n",
       "      <td>0</td>\n",
       "      <td>[[[False, False, False, False, False, False, F...</td>\n",
       "      <td>purerandom</td>\n",
       "    </tr>\n",
       "  </tbody>\n",
       "</table>\n",
       "</div>"
      ],
      "text/plain": [
       "   time  found_exit  n_alive  \\\n",
       "0   600          -1        0   \n",
       "\n",
       "                                            explored      policy  \n",
       "0  [[[False, False, False, False, False, False, F...  purerandom  "
      ]
     },
     "execution_count": 99,
     "metadata": {},
     "output_type": "execute_result"
    }
   ],
   "source": [
    "df_pr"
   ]
  },
  {
   "cell_type": "code",
   "execution_count": 95,
   "metadata": {},
   "outputs": [
    {
     "data": {
      "image/png": "[encoded data removed]",
      "text/plain": [
       "<Figure size 432x288 with 1 Axes>"
      ]
     },
     "metadata": {
      "needs_background": "light"
     },
     "output_type": "display_data"
    }
   ],
   "source": [
    "ax = sns.boxplot(x=\"policy\", y=\"time\", data=baseline_big_all)"
   ]
  },
  {
   "cell_type": "markdown",
   "metadata": {},
   "source": [
    "### Leaftracker & Pathfinder\n",
    "\n",
    "Omdat "
   ]
  },
  {
   "cell_type": "markdown",
   "metadata": {},
   "source": [
    "#### SLOWNESS\n",
    "\n",
    "Bij deze analyse laten wij de verschilden snelheden zien van de policies om de uitgang te vinden"
   ]
  },
  {
   "cell_type": "code",
   "execution_count": 218,
   "metadata": {},
   "outputs": [],
   "source": [
    "filenames = glob.glob('speed_difference/*.feather')\n",
    "\n",
    "dfs = []\n",
    "for filename in filenames:\n",
    "    # print(filename)\n",
    "    temp_df = feather.read_feather(filename)\n",
    "    file_split = filename.split(\"_\")\n",
    "    policy_type = file_split[3]\n",
    "    temp_df['slowness'] = int(file_split[4].rsplit(\".\")[0])\n",
    "    temp_df['policy'] = policy_type\n",
    "    dfs.append(temp_df)\n",
    "\n",
    "# add policy    \n",
    "    df_pf['policy'] = 'pathfinder'\n",
    "# Concatenate all data into one DataFrame\n",
    "speed_all = pd.concat(dfs, ignore_index=True)\n",
    "speed_all = speed_all.sort_values(by=['slowness'])\n",
    "speed_all_alive = speed_all[speed_all.found_exit != -1]\n"
   ]
  },
  {
   "cell_type": "markdown",
   "metadata": {},
   "source": [
    "Alleen de agents die overleven en de uitgang vinden\n",
    "\n",
    "Agent heeft steeds minder tijd om te exploren, daarom exponentieel"
   ]
  },
  {
   "cell_type": "code",
   "execution_count": 215,
   "metadata": {},
   "outputs": [
    {
     "data": {
      "text/plain": [
       "<AxesSubplot:xlabel='slowness', ylabel='time'>"
      ]
     },
     "execution_count": 215,
     "metadata": {},
     "output_type": "execute_result"
    },
    {
     "data": {
      "image/png": "[encoded data removed]",
      "text/plain": [
       "<Figure size 432x288 with 1 Axes>"
      ]
     },
     "metadata": {
      "needs_background": "light"
     },
     "output_type": "display_data"
    }
   ],
   "source": [
    "sns.lineplot(\n",
    "    data=speed_all_alive, x=\"slowness\", y=\"time\", hue=\"policy\", ci=68\n",
    ")"
   ]
  },
  {
   "cell_type": "markdown",
   "metadata": {},
   "source": [
    "## Memory decay\n",
    "\n",
    "![image.png](attachment:image.png)\n",
    "![image-2.png](attachment:image-2.png)"
   ]
  },
  {
   "cell_type": "code",
   "execution_count": 229,
   "metadata": {},
   "outputs": [],
   "source": [
    "filenames = glob.glob('memory_decay/*.feather')\n",
    "\n",
    "dfs = []\n",
    "for filename in filenames:\n",
    "    # print(filename)\n",
    "    temp_df = feather.read_feather(filename)\n",
    "    file_split = filename.split(\"_\")\n",
    "    policy_type = file_split[3]\n",
    "    # print(file_split[4])\n",
    "    temp_df['decay'] = int(file_split[4].rsplit(\".\")[0])\n",
    "    temp_df['policy'] = policy_type\n",
    "    dfs.append(temp_df)\n",
    "\n",
    "# add policy    \n",
    "    df_pf['policy'] = 'pathfinder'\n",
    "# Concatenate all data into one DataFrame\n",
    "decay_all = pd.concat(dfs, ignore_index=True)\n",
    "decay_all = decay_all.sort_values(by=['decay'])"
   ]
  },
  {
   "cell_type": "code",
   "execution_count": 230,
   "metadata": {},
   "outputs": [
    {
     "data": {
      "text/html": [
       "<div>\n",
       "<style scoped>\n",
       "    .dataframe tbody tr th:only-of-type {\n",
       "        vertical-align: middle;\n",
       "    }\n",
       "\n",
       "    .dataframe tbody tr th {\n",
       "        vertical-align: top;\n",
       "    }\n",
       "\n",
       "    .dataframe thead th {\n",
       "        text-align: right;\n",
       "    }\n",
       "</style>\n",
       "<table border=\"1\" class=\"dataframe\">\n",
       "  <thead>\n",
       "    <tr style=\"text-align: right;\">\n",
       "      <th></th>\n",
       "      <th>time</th>\n",
       "      <th>found_exit</th>\n",
       "      <th>n_alive</th>\n",
       "      <th>explored</th>\n",
       "      <th>decay</th>\n",
       "      <th>policy</th>\n",
       "    </tr>\n",
       "  </thead>\n",
       "  <tbody>\n",
       "    <tr>\n",
       "      <th>0</th>\n",
       "      <td>869</td>\n",
       "      <td>0</td>\n",
       "      <td>1</td>\n",
       "      <td>[[[True, True, True, True, True, True, True, T...</td>\n",
       "      <td>0</td>\n",
       "      <td>Pathfinder</td>\n",
       "    </tr>\n",
       "    <tr>\n",
       "      <th>58</th>\n",
       "      <td>875</td>\n",
       "      <td>0</td>\n",
       "      <td>1</td>\n",
       "      <td>[[[True, True, True, True, True, True, True, T...</td>\n",
       "      <td>5</td>\n",
       "      <td>Pathfinder</td>\n",
       "    </tr>\n",
       "    <tr>\n",
       "      <th>57</th>\n",
       "      <td>753</td>\n",
       "      <td>0</td>\n",
       "      <td>1</td>\n",
       "      <td>[[[True, True, True, True, True, True, True, T...</td>\n",
       "      <td>5</td>\n",
       "      <td>Pathfinder</td>\n",
       "    </tr>\n",
       "    <tr>\n",
       "      <th>56</th>\n",
       "      <td>633</td>\n",
       "      <td>0</td>\n",
       "      <td>1</td>\n",
       "      <td>[[[True, True, True, True, True, True, True, T...</td>\n",
       "      <td>5</td>\n",
       "      <td>Pathfinder</td>\n",
       "    </tr>\n",
       "    <tr>\n",
       "      <th>55</th>\n",
       "      <td>511</td>\n",
       "      <td>0</td>\n",
       "      <td>1</td>\n",
       "      <td>[[[True, False, True, True, True, True, True, ...</td>\n",
       "      <td>5</td>\n",
       "      <td>Pathfinder</td>\n",
       "    </tr>\n",
       "    <tr>\n",
       "      <th>...</th>\n",
       "      <td>...</td>\n",
       "      <td>...</td>\n",
       "      <td>...</td>\n",
       "      <td>...</td>\n",
       "      <td>...</td>\n",
       "      <td>...</td>\n",
       "    </tr>\n",
       "    <tr>\n",
       "      <th>47</th>\n",
       "      <td>2427</td>\n",
       "      <td>0</td>\n",
       "      <td>1</td>\n",
       "      <td>[[[False, False, False, False, True, False, Fa...</td>\n",
       "      <td>30</td>\n",
       "      <td>Pathfinder</td>\n",
       "    </tr>\n",
       "    <tr>\n",
       "      <th>42</th>\n",
       "      <td>147</td>\n",
       "      <td>0</td>\n",
       "      <td>1</td>\n",
       "      <td>[[[False, False, False, False, False, False, F...</td>\n",
       "      <td>30</td>\n",
       "      <td>Pathfinder</td>\n",
       "    </tr>\n",
       "    <tr>\n",
       "      <th>45</th>\n",
       "      <td>387</td>\n",
       "      <td>0</td>\n",
       "      <td>1</td>\n",
       "      <td>[[[False, False, True, False, False, True, Tru...</td>\n",
       "      <td>30</td>\n",
       "      <td>Pathfinder</td>\n",
       "    </tr>\n",
       "    <tr>\n",
       "      <th>41</th>\n",
       "      <td>30</td>\n",
       "      <td>0</td>\n",
       "      <td>1</td>\n",
       "      <td>[[[False, False, False, False, False, False, F...</td>\n",
       "      <td>30</td>\n",
       "      <td>Pathfinder</td>\n",
       "    </tr>\n",
       "    <tr>\n",
       "      <th>46</th>\n",
       "      <td>1470</td>\n",
       "      <td>0</td>\n",
       "      <td>1</td>\n",
       "      <td>[[[False, True, False, True, False, True, Fals...</td>\n",
       "      <td>30</td>\n",
       "      <td>Pathfinder</td>\n",
       "    </tr>\n",
       "  </tbody>\n",
       "</table>\n",
       "<p>61 rows × 6 columns</p>\n",
       "</div>"
      ],
      "text/plain": [
       "    time  found_exit  n_alive  \\\n",
       "0    869           0        1   \n",
       "58   875           0        1   \n",
       "57   753           0        1   \n",
       "56   633           0        1   \n",
       "55   511           0        1   \n",
       "..   ...         ...      ...   \n",
       "47  2427           0        1   \n",
       "42   147           0        1   \n",
       "45   387           0        1   \n",
       "41    30           0        1   \n",
       "46  1470           0        1   \n",
       "\n",
       "                                             explored  decay      policy  \n",
       "0   [[[True, True, True, True, True, True, True, T...      0  Pathfinder  \n",
       "58  [[[True, True, True, True, True, True, True, T...      5  Pathfinder  \n",
       "57  [[[True, True, True, True, True, True, True, T...      5  Pathfinder  \n",
       "56  [[[True, True, True, True, True, True, True, T...      5  Pathfinder  \n",
       "55  [[[True, False, True, True, True, True, True, ...      5  Pathfinder  \n",
       "..                                                ...    ...         ...  \n",
       "47  [[[False, False, False, False, True, False, Fa...     30  Pathfinder  \n",
       "42  [[[False, False, False, False, False, False, F...     30  Pathfinder  \n",
       "45  [[[False, False, True, False, False, True, Tru...     30  Pathfinder  \n",
       "41  [[[False, False, False, False, False, False, F...     30  Pathfinder  \n",
       "46  [[[False, True, False, True, False, True, Fals...     30  Pathfinder  \n",
       "\n",
       "[61 rows x 6 columns]"
      ]
     },
     "execution_count": 230,
     "metadata": {},
     "output_type": "execute_result"
    }
   ],
   "source": [
    "decay_all"
   ]
  },
  {
   "cell_type": "code",
   "execution_count": 231,
   "metadata": {},
   "outputs": [
    {
     "data": {
      "text/plain": [
       "<AxesSubplot:xlabel='decay', ylabel='time'>"
      ]
     },
     "execution_count": 231,
     "metadata": {},
     "output_type": "execute_result"
    },
    {
     "data": {
      "image/png": "[encoded data removed]",
      "text/plain": [
       "<Figure size 432x288 with 1 Axes>"
      ]
     },
     "metadata": {
      "needs_background": "light"
     },
     "output_type": "display_data"
    }
   ],
   "source": [
    "sns.lineplot(\n",
    "    data=decay_all, x=\"decay\", y=\"time\"\n",
    ")"
   ]
  },
  {
   "cell_type": "code",
   "execution_count": null,
   "metadata": {},
   "outputs": [],
   "source": []
  },
  {
   "cell_type": "code",
   "execution_count": null,
   "metadata": {},
   "outputs": [],
   "source": []
  },
  {
   "cell_type": "markdown",
   "metadata": {},
   "source": [
    "![image-2.png](attachment:image-2.png)\n"
   ]
  },
  {
   "cell_type": "code",
   "execution_count": null,
   "metadata": {},
   "outputs": [],
   "source": []
  }
 ],
 "metadata": {
  "kernelspec": {
   "display_name": "mazerunner",
   "language": "python",
   "name": "mazerunner"
  },
  "language_info": {
   "codemirror_mode": {
    "name": "ipython",
    "version": 3
   },
   "file_extension": ".py",
   "mimetype": "text/x-python",
   "name": "python",
   "nbconvert_exporter": "python",
   "pygments_lexer": "ipython3",
   "version": "3.7.8"
  }
 },
 "nbformat": 4,
 "nbformat_minor": 4
}
